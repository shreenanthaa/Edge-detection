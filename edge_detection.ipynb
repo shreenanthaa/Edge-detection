{
 "cells": [
  {
   "cell_type": "markdown",
   "id": "79d20881",
   "metadata": {},
   "source": [
    "# image detection"
   ]
  },
  {
   "cell_type": "code",
   "execution_count": 1,
   "id": "8772799e",
   "metadata": {},
   "outputs": [],
   "source": [
    "import cv2\n",
    "webcam = cv2.VideoCapture(0)\n",
    "\n",
    "img = cv2.imread('img_13.jpg')\n",
    "img_gray = cv2.cvtColor(img, cv2.COLOR_BGR2GRAY)\n",
    "img_blur = cv2.GaussianBlur(img_gray, (3,3), 0)\n",
    "\n",
    " \n",
    "\n",
    "# Sobel Edge Detection\n",
    "sobelx = cv2.Sobel(src=img_blur, ddepth=cv2.CV_64F, dx=1, dy=0, ksize=5) # Sobel Edge Detection on the X axis\n",
    "sobely = cv2.Sobel(src=img_blur, ddepth=cv2.CV_64F, dx=0, dy=1, ksize=5) # Sobel Edge Detection on the Y axis\n",
    "sobelxy = cv2.Sobel(src=img_blur, ddepth=cv2.CV_64F, dx=1, dy=1, ksize=5) # Combined X and Y Sobel Edge Detection\n",
    "edges = cv2.Canny(image=img_blur, threshold1=100, threshold2=200) # Canny Edge Detection\n",
    "cv2.imshow('Canny Edge Detection', edges)\n",
    "cv2.waitKey(0)\n",
    "cv2.destroyAllWindows()\n"
   ]
  },
  {
   "cell_type": "markdown",
   "id": "2988e128",
   "metadata": {},
   "source": [
    "# Video detection "
   ]
  },
  {
   "cell_type": "code",
   "execution_count": 1,
   "id": "26c7958d",
   "metadata": {},
   "outputs": [],
   "source": [
    "import cv2\n",
    "\n",
    "\n",
    "cap = cv2.VideoCapture(0)\n",
    "out = cv2.VideoWriter('output.MP4', -1, 20.0, (640,480))\n",
    "\n",
    "while True:\n",
    "    ret, frame = cap.read()\n",
    "    threshold_1 = 30\n",
    "    threshold_2 = 80\n",
    "    image_gray = cv2.cvtColor(frame, cv2.COLOR_BGR2GRAY)\n",
    "    canny = cv2.Canny(image_gray, threshold_1, threshold_2)\n",
    "    out.write(canny)\n",
    "    cv2.imshow('Live Edge Detection', canny)\n",
    "    key = cv2.waitKey(1)\n",
    "    if key == ord('q'):\n",
    "        cv2.destroyAllWindows()\n",
    "        out.release()\n",
    "        cap.release()\n",
    "        break        \n"
   ]
  },
  {
   "cell_type": "code",
   "execution_count": null,
   "id": "872dbc24",
   "metadata": {},
   "outputs": [],
   "source": []
  }
 ],
 "metadata": {
  "kernelspec": {
   "display_name": "Python 3",
   "language": "python",
   "name": "python3"
  },
  "language_info": {
   "codemirror_mode": {
    "name": "ipython",
    "version": 3
   },
   "file_extension": ".py",
   "mimetype": "text/x-python",
   "name": "python",
   "nbconvert_exporter": "python",
   "pygments_lexer": "ipython3",
   "version": "3.8.8"
  }
 },
 "nbformat": 4,
 "nbformat_minor": 5
}
